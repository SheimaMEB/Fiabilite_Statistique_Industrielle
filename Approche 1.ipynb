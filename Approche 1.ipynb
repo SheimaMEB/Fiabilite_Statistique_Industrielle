{
 "cells": [
  {
   "cell_type": "markdown",
   "id": "ae8e6e15-5c5c-42ea-b4d1-3a65d6d18890",
   "metadata": {},
   "source": [
    "### **Objectif**\n",
    "\n",
    "Nous voulons déterminer la hauteur optimale de la digue $h_d$ afin de minimiser le risque d’inondation en nous basant uniquement sur les relevés historiques des hauteurs de crue."
   ]
  },
  {
   "cell_type": "markdown",
   "id": "2adf90aa-08ec-460f-9023-36d74745364a",
   "metadata": {},
   "source": [
    "### **Chargement des données et visualisation**"
   ]
  },
  {
   "cell_type": "code",
   "execution_count": 11,
   "id": "7962cd57-0d31-4820-bbb6-c198c2f9f6ea",
   "metadata": {},
   "outputs": [
    {
     "name": "stdout",
     "output_type": "stream",
     "text": [
      "['Données débit-hauteur', 'Données coûts']\n",
      "\n",
      "Résumé des valeurs manquantes :\n",
      "Année                                     0\n",
      "Débit mesuré maximal annuel (en m3/s)     0\n",
      "Hauteur associée mesurée (en m)          26\n",
      "dtype: int64\n",
      "count    123.000000\n",
      "mean       3.896748\n",
      "std        1.272337\n",
      "min        1.000000\n",
      "25%        3.100000\n",
      "50%        3.900000\n",
      "75%        4.750000\n",
      "max        7.200000\n",
      "Name: Hauteur associée mesurée (en m), dtype: float64\n"
     ]
    }
   ],
   "source": [
    "import pandas as pd\n",
    "\n",
    "# Charger le fichier CSV\n",
    "df =  pd.ExcelFile(\"Données-Projet-Pratique-Fiabilité.xlsx\")\n",
    "print(df.sheet_names)  \n",
    "df = df.parse(df.sheet_names[0])  # Charge la première feuille \n",
    "\n",
    "print(\"\\nRésumé des valeurs manquantes :\")\n",
    "print(df.isnull().sum())\n",
    "print(df[\"Hauteur associée mesurée (en m)\"].describe())"
   ]
  },
  {
   "cell_type": "markdown",
   "id": "587e2409-be18-4e10-a3ab-de154d6b8269",
   "metadata": {},
   "source": [
    "Nous avons 26 valeurs manquantes sur la hauteur de crue.\n",
    "Nous allons traiter cela en deyx façons :\n",
    "\n",
    "- Méthode naïve qui ignore les valeurs censurées et se base uniquement sur les observations disponibles.\n",
    "- Méthode des quantiles avec estimation par moyenne : Remplacement des valeurs censurées par la moyenne des hauteurs connues avant le calcul des quantiles.\n",
    "- Méthode des quantiles avec estimation par régression : Modélisation de la relation entre le débit et la hauteur pour estimer les valeurs censurées avant de calculer les quantiles."
   ]
  },
  {
   "cell_type": "markdown",
   "id": "30ce9cf6-a5be-47a2-b6af-fad9bf6c2cb9",
   "metadata": {},
   "source": [
    "### **Méthode naïve**\n",
    "\n",
    "Dans cette première approche, on supprime les valeurs censurées et on travaille uniquement avec les hauteurs de crue observées.\n",
    "La hauteur de la digue $h_d$ est alors définie comme la valeur maximale observée augmentée d’une marge de sécurité de 5% afin de prendre en compte les incertitudes liés à cette méthode."
   ]
  },
  {
   "cell_type": "code",
   "execution_count": 3,
   "id": "86b98562-0a7e-4233-a66f-b1e156d6ffb8",
   "metadata": {},
   "outputs": [
    {
     "name": "stdout",
     "output_type": "stream",
     "text": [
      "Hauteur maximale observée : 7.20 m\n",
      "Hauteur empirique (max + 5%) : 7.56 m\n"
     ]
    }
   ],
   "source": [
    "df_naive = df.dropna(subset=[\"Hauteur associée mesurée (en m)\"])\n",
    "\n",
    "h_max = df_naive[\"Hauteur associée mesurée (en m)\"].max()\n",
    "\n",
    "# Ajout d’une marge de sécurité de 10%\n",
    "h_empirique = h_max * 1.05\n",
    "\n",
    "print(f\"Hauteur maximale observée : {h_max:.2f} m\")\n",
    "print(f\"Hauteur empirique (max + 5%) : {h_empirique:.2f} m\")\n"
   ]
  },
  {
   "cell_type": "markdown",
   "id": "517ffe1d-72f3-44f0-9863-4363535563f3",
   "metadata": {},
   "source": [
    "**Justification :**\n",
    "L’idée derrière cette approche était de fixer une hauteur de digue garantissant la protection contre toutes les crues enregistrées, tout en ajoutant une marge de sécurité de 5 % pour anticiper d’éventuelles variations futures. Cette méthode repose sur l’hypothèse que la hauteur maximale observée est un bon indicateur du risque extrême et qu’une simple majoration permettrait d’éviter toute inondation. Toutefois, cette méthode présente une limite majeure : elle ignore totalement les valeurs censurées. Cela peut donc mener à une surestimation de $h_d$ si la crue maximale observée était exceptionnelle, ou au contraire à une sous-estimation si les crues les plus extrêmes étaient absentes des données disponibles.\n"
   ]
  },
  {
   "cell_type": "markdown",
   "id": "8b8e762d-abc6-44dc-9c51-19c791d1e891",
   "metadata": {},
   "source": [
    "### **Méthode des quantiles: estimation par moyenne**\n",
    "i nous utilisons directement la méthode des quantiles sans estimation, nous obtenons une sous-estimation de $h_d$ car les valeurs censurées sont ignorées.\n",
    "Dans cette approche, les valeurs censurées sont estimées par la moyenne des hauteurs observées.\n",
    "Une fois cette estimation réalisée, nous appliquons les quantiles 95% et 99% pour définir un seuil en fonction du risque d’inondation acceptable."
   ]
  },
  {
   "cell_type": "code",
   "execution_count": 15,
   "id": "1a692c69-0596-473e-bc56-cfb71ff27454",
   "metadata": {},
   "outputs": [
    {
     "name": "stdout",
     "output_type": "stream",
     "text": [
      "Quantile 95% après estimation : 5.86 m\n",
      "Quantile 99% après estimation : 6.70 m\n"
     ]
    }
   ],
   "source": [
    "mean_height = df[\"Hauteur associée mesurée (en m)\"].mean()\n",
    "# Remplir les valeurs manquantes avec la moyenne\n",
    "df_filled = df.copy()\n",
    "df_filled[\"Hauteur associée mesurée (en m)\"].fillna(mean_height, inplace=True)\n",
    "\n",
    "# Calcul des quantiles 95% et 99% après avoir rempli les valeurs manquantes\n",
    "h_q95 = df_filled[\"Hauteur associée mesurée (en m)\"].quantile(0.95)\n",
    "h_q99 = df_filled[\"Hauteur associée mesurée (en m)\"].quantile(0.99)\n",
    "\n",
    "print(f\"Quantile 95% après estimation : {h_q95:.2f} m\")\n",
    "print(f\"Quantile 99% après estimation : {h_q99:.2f} m\")"
   ]
  },
  {
   "cell_type": "code",
   "execution_count": 16,
   "id": "9cd7b021-f872-410f-a76f-f17468d16162",
   "metadata": {},
   "outputs": [
    {
     "name": "stdout",
     "output_type": "stream",
     "text": [
      "Quantile 95% après estimation (régression) : 5.86 m\n",
      "IC à 95% pour le quantile 95% : [5.41 m ; 6.31 m]\n",
      "Quantile 99% après estimation (régression) : 6.70 m\n",
      "IC à 95% pour le quantile 99% : [6.02 m ; 7.22 m]\n"
     ]
    }
   ],
   "source": [
    "hauteurs_estimees = df[\"Hauteur associée mesurée (en m)\"].dropna().values\n",
    "n = len(hauteurs_estimees)  # Taille de l'échantillon après estimation\n",
    "\n",
    "# Approximation de l'écart-type des quantiles (Méthode Harrell-Davis)\n",
    "sigma_q95 = (df[\"Hauteur associée mesurée (en m)\"].quantile(0.975) - df[\"Hauteur associée mesurée (en m)\"].quantile(0.025)) / 2\n",
    "sigma_q99 = (df[\"Hauteur associée mesurée (en m)\"].quantile(0.995) - df[\"Hauteur associée mesurée (en m)\"].quantile(0.005)) / 2\n",
    "\n",
    "# Calcul des IC à 95%\n",
    "z_alpha_95 = stats.norm.ppf(0.975)\n",
    "z_alpha_99 = stats.norm.ppf(0.995)\n",
    "IC_95 = (h_q95 - z_alpha_95 * sigma_q95 / np.sqrt(n), h_q95 + z_alpha * sigma_q95 / np.sqrt(n))\n",
    "IC_99 = (h_q99 - z_alpha_99 * sigma_q99 / np.sqrt(n), h_q99 + z_alpha * sigma_q99 / np.sqrt(n))\n",
    "\n",
    "# Affichage des résultats\n",
    "print(f\"Quantile 95% après estimation (régression) : {h_q95:.2f} m\")\n",
    "print(f\"IC à 95% pour le quantile 95% : [{IC_95[0]:.2f} m ; {IC_95[1]:.2f} m]\")\n",
    "print(f\"Quantile 99% après estimation (régression) : {h_q99:.2f} m\")\n",
    "print(f\"IC à 95% pour le quantile 99% : [{IC_99[0]:.2f} m ; {IC_99[1]:.2f} m]\")"
   ]
  },
  {
   "cell_type": "markdown",
   "id": "cc5c23a3-df79-4669-bcea-33a53d475236",
   "metadata": {},
   "source": [
    "**Justification :**\n",
    "Cette approche part de l’idée que, pour traiter les censures, on peut leur attribuer une valeur moyenne, ce qui permet ensuite de calculer des quantiles pour déterminer $h_d$. L’objectif était d’utiliser une méthode simple et robuste, qui s’appuie sur une hypothèse de distribution normale des hauteurs de crue. En estimant les valeurs censurées par la moyenne des observations disponibles, nous avons supposé que ces valeurs étaient réparties de manière homogène, sans être nécessairement plus élevées que les autres.\n",
    "\n",
    "Cependant, cette approche lisse les extrêmes, ce qui a conduit à une sous-estimation des quantiles élevés. Nous avons constaté que le quantile 99 % issu de cette méthode (6.70 m) était significativement inférieur à l'approche naive, traduisant un possible biais vers le bas. Cela nous a amenés à chercher une alternative permettant une estimation plus fidèle des valeurs censurées."
   ]
  },
  {
   "cell_type": "markdown",
   "id": "6d4d2a96-3ec4-442a-bfae-e4ce1d26416b",
   "metadata": {},
   "source": [
    "### **Méthode des quantiles avec régression**\n",
    "Une solution consiste à modéliser la relation entre le débit et la hauteur de crue afin d’estimer ces valeurs.\n",
    "L’idée principale est que le débit Q et la hauteur H sont fortement corrélés : lorsqu’un débit important est observé, la hauteur de crue est généralement élevée. En exploitant cette relation, nous pouvons estimer les hauteurs manquantes à partir des débits mesurés."
   ]
  },
  {
   "cell_type": "code",
   "execution_count": 5,
   "id": "8a85d2bd-e894-467d-8dc4-355604c032ea",
   "metadata": {},
   "outputs": [
    {
     "name": "stdout",
     "output_type": "stream",
     "text": [
      "Quantile 95% après estimation (régression) : 6.36 m\n",
      "Quantile 99% après estimation (régression) : 7.37 m\n"
     ]
    }
   ],
   "source": [
    "import numpy as np\n",
    "from sklearn.linear_model import LinearRegression\n",
    "\n",
    "# On prend uniquement les lignes avec des valeurs observées pour entraîner le modèle\n",
    "df_observed = df.dropna(subset=[\"Hauteur associée mesurée (en m)\"])\n",
    "\n",
    "# Modèle de régression entre le débit et la hauteur observée\n",
    "X_train = df_observed[\"Débit mesuré maximal annuel (en m3/s)\"].values.reshape(-1, 1)\n",
    "y_train = df_observed[\"Hauteur associée mesurée (en m)\"].values\n",
    "\n",
    "# Entraînement du modèle de régression linéaire\n",
    "model = LinearRegression()\n",
    "model.fit(X_train, y_train)\n",
    "\n",
    "# Prédiction des valeurs censurées\n",
    "df_missing = df[df[\"Hauteur associée mesurée (en m)\"].isna()]\n",
    "X_missing = df_missing[\"Débit mesuré maximal annuel (en m3/s)\"].values.reshape(-1, 1)\n",
    "df.loc[df[\"Hauteur associée mesurée (en m)\"].isna(), \"Hauteur associée mesurée (en m)\"] = model.predict(X_missing)\n",
    "\n",
    "# Calcul des quantiles après estimation\n",
    "h_q95_r = df[\"Hauteur associée mesurée (en m)\"].quantile(0.95)\n",
    "h_q99_r = df[\"Hauteur associée mesurée (en m)\"].quantile(0.99)\n",
    "\n",
    "print(f\"Quantile 95% après estimation (régression) : {h_q95_r:.2f} m\")\n",
    "print(f\"Quantile 99% après estimation (régression) : {h_q99_r:.2f} m\")\n"
   ]
  },
  {
   "cell_type": "code",
   "execution_count": 9,
   "id": "629f9583-effe-435b-a8b6-f1a1eacb6461",
   "metadata": {},
   "outputs": [
    {
     "name": "stdout",
     "output_type": "stream",
     "text": [
      "Quantile 95% après estimation (régression) : 6.36 m\n",
      "IC à 95% pour le quantile 95% : [5.95 m ; 6.77 m]\n",
      "Quantile 99% après estimation (régression) : 7.37 m\n",
      "IC à 95% pour le quantile 99% : [6.66 m ; 7.92 m]\n"
     ]
    }
   ],
   "source": [
    "import scipy.stats as stats\n",
    "\n",
    "hauteurs_estimees = df[\"Hauteur associée mesurée (en m)\"].dropna().values\n",
    "n = len(hauteurs_estimees)  # Taille de l'échantillon après estimation\n",
    "\n",
    "# Calcul des quantiles avec Pandas\n",
    "h_q95_r = df[\"Hauteur associée mesurée (en m)\"].quantile(0.95)\n",
    "h_q99_r = df[\"Hauteur associée mesurée (en m)\"].quantile(0.99)\n",
    "\n",
    "# Approximation de l'écart-type des quantiles (Méthode Harrell-Davis)\n",
    "sigma_q95 = (df[\"Hauteur associée mesurée (en m)\"].quantile(0.975) - df[\"Hauteur associée mesurée (en m)\"].quantile(0.025)) / 2\n",
    "sigma_q99 = (df[\"Hauteur associée mesurée (en m)\"].quantile(0.995) - df[\"Hauteur associée mesurée (en m)\"].quantile(0.005)) / 2\n",
    "\n",
    "# Calcul des IC à 95%\n",
    "z_alpha_95 = stats.norm.ppf(0.975)\n",
    "z_alpha_99 = stats.norm.ppf(0.995)\n",
    "IC_95 = (h_q95_r - z_alpha_95 * sigma_q95 / np.sqrt(n), h_q95_r + z_alpha * sigma_q95 / np.sqrt(n))\n",
    "IC_99 = (h_q99_r - z_alpha_99 * sigma_q99 / np.sqrt(n), h_q99_r + z_alpha * sigma_q99 / np.sqrt(n))\n",
    "\n",
    "# Affichage des résultats\n",
    "print(f\"Quantile 95% après estimation (régression) : {h_q95_r:.2f} m\")\n",
    "print(f\"IC à 95% pour le quantile 95% : [{IC_95[0]:.2f} m ; {IC_95[1]:.2f} m]\")\n",
    "print(f\"Quantile 99% après estimation (régression) : {h_q99_r:.2f} m\")\n",
    "print(f\"IC à 95% pour le quantile 99% : [{IC_99[0]:.2f} m ; {IC_99[1]:.2f} m]\")"
   ]
  },
  {
   "cell_type": "markdown",
   "id": "616d6172-e7ad-463e-9268-465b8afe338d",
   "metadata": {},
   "source": [
    "**Justification :**\n",
    "\n",
    "Pour améliorer l’estimation des valeurs censurées, nous avons cherché à exploiter une relation physique existante entre le débit et la hauteur de crue, plutôt que de leur attribuer une valeur fixe. L’idée était d’utiliser une régression linéaire pour modéliser cette relation à partir des données observées, puis d’extrapoler les valeurs censurées.\n",
    "\n",
    "Cette approche repose sur l’hypothèse que le débit maximal annuel est un bon prédicteur de la hauteur de crue associée, ce qui est cohérent avec la physique des crues. En estimant les hauteurs manquantes à partir de cette relation, nous avons obtenu une meilleure représentation des valeurs extrêmes, évitant l’effet de lissage de la méthode par moyenne."
   ]
  },
  {
   "cell_type": "markdown",
   "id": "7a5a2121-5cd6-44fd-962b-df1d74bc6891",
   "metadata": {},
   "source": [
    "### **Résultats**\n",
    "\n",
    "| **Approche** | **Prise en compte des censures ?** | **Hauteur \\( h_d \\) obtenue (m)** |\n",
    "|-------------|----------------------------------|------------------------------|\n",
    "| **Méthode naïve (Max + 5%)** | ❌ Non | **7.56** |\n",
    "| **Quantile 95% (moyenne)** | ✅ Oui (Estimation moyenne) | **5.86** |\n",
    "| **Quantile 99% (moyenne)** | ✅ Oui (Estimation moyenne) | **6.70** |\n",
    "| **Quantile 95% (régression)** | ✅ Oui (Estimation régression) | **6.36** |\n",
    "| **Quantile 99% (régression)** | ✅ Oui (Estimation régression) | **7.37** |\n"
   ]
  },
  {
   "cell_type": "markdown",
   "id": "c20a2e7a-c785-435d-b9cc-90c81b1c4bda",
   "metadata": {},
   "source": [
    "Les trois approches testées aboutissent à des estimations de $h_d$ comprises entre 5.86 m et 7.56 m, mettant en évidence l'impact du traitement des valeurs censurées.\n",
    "\n",
    "La méthode naïve (7.56 m) et l’approche par régression (7.37 m) donnent des valeurs relativement proches, ce qui suggère que la modélisation du lien entre débit et hauteur permet d’approcher les crues extrêmes de manière cohérente avec les observations historiques. En revanche, l’approche par moyenne sous-estime nettement $h_d$ (6.70 m), car elle lisse les valeurs censurées sans refléter la distribution réelle des hauteurs extrêmes.\n",
    "\n",
    "Ainsi, le quantile 99 % estimé par régression (7.37 m) constitue un bon compromis entre sécurité et optimisation des coûts, en tenant compte des censures tout en restant plus réaliste que la méthode naïve. Si une sécurité absolue est requise, la méthode naïve reste plus conservatrice, tandis que l’approche par moyenne minimise les coûts au prix d’un risque accru. Le choix final dépend donc du niveau de protection souhaité."
   ]
  }
 ],
 "metadata": {
  "kernelspec": {
   "display_name": "Python 3 (ipykernel)",
   "language": "python",
   "name": "python3"
  },
  "language_info": {
   "codemirror_mode": {
    "name": "ipython",
    "version": 3
   },
   "file_extension": ".py",
   "mimetype": "text/x-python",
   "name": "python",
   "nbconvert_exporter": "python",
   "pygments_lexer": "ipython3",
   "version": "3.11.7"
  }
 },
 "nbformat": 4,
 "nbformat_minor": 5
}
