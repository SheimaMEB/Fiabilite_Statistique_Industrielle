{
 "cells": [
  {
   "cell_type": "markdown",
   "id": "cef83917-241e-4518-ab6b-bbb44f6ebc92",
   "metadata": {},
   "source": [
    "### **Objectif**\n",
    "\n",
    "Après avoir estimé la hauteur optimale de la digue à partir des données historiques, cette seconde approche repose sur un modèle hydraulique intégrant les lois physiques de l’écoulement et les incertitudes environnementales. L’objectif est de déterminer $h_d$ en minimisant la probabilité de surverse \n",
    "$P(S>0)$, c’est-à-dire la probabilité que l’eau dépasse la digue : $$P(S>0)=P(H>h_d+Z_b−Z_v)$$\n",
    "\n",
    "où :\n",
    "H est calculé à partir du débit de crue Q selon l’équation :\n",
    "$$H = \\left(\\frac{Q}{K_s \\sqrt{\\frac{Z_m - Z_v}{L}} B}\\right)^{\\frac{3}{5}}$$\n",
    " \n",
    "où :\n",
    "- Q est le débit maximal annuel (m³/s), qui varie selon les crues.\n",
    "- $𝐾_𝑠$ est un coefficient de frottement lié aux caractéristiques du terrain.\n",
    "- $𝑍_𝑚$ et $Z_v$ sont respectivement les cotes amont et aval.\n",
    "- L est la longueur du tronçon de rivière étudié.\n",
    "- B est la largeur du lit du fleuve.\n",
    "\n",
    "L’objectif est donc de choisir une hauteur optimale $h_d$ de manière à minimiser $P(S>0)$, tout en tenant compte des incertitudes affectant les variables du modèle.\n",
    "\n"
   ]
  },
  {
   "cell_type": "markdown",
   "id": "f0abc313-6cd1-42ad-8942-b572bba9cc32",
   "metadata": {},
   "source": [
    "### **Prise en Compte des Incertitudes**\n",
    "\n",
    "Dans un environnement naturel, les paramètres du modèle ne sont pas parfaitement connus et varient au cours du temps. Plusieurs sources d’incertitude influencent directement la hauteur d’eau et la probabilité de surverse.\n",
    "\n",
    "D’une part, la variabilité naturelle du débit $Q$, du coefficient de frottement $K_s$ et des cotes du lit du fleuve ($Z_m$ et $Z_v$) est liée aux fluctuations climatiques, météorologiques et hydrologiques. Le débit d’un fleuve est influencé par des événements extrêmes, tels que les fortes précipitations ou la fonte des neiges, ce qui rend ses valeurs imprévisibles d’une année à l’autre. De même, l’état du lit du fleuve évolue en raison de l’érosion et du dépôt de sédiments, modifiant ainsi les conditions d’écoulement.\n",
    "\n",
    "D’autre part, il existe des incertitudes de mesure et de modélisation.\n",
    "\n",
    "Afin d’intégrer ces incertitudes dans notre analyse, nous modélisons chaque variable aléatoire selon une distribution de probabilité :\n",
    "\n",
    "| **Variable** | **Type de Loi** | **Paramètre 1** | **Paramètre 2** |\r\n",
    "|-------------|----------------|-----------------|-----------------|\r\n",
    "| **Débit \\( Q \\) (m³/s)** | Gumbel | 1013 (mode) | 558 (échelle) |\r\n",
    "| **Coefficient de frottement \\( K_s \\)** | Normale | 30 (espérance) | 7.5 (écart-type) |\r\n",
    "| **Cote aval \\( Z_v \\) (m NGF)** | Triangulaire | 50 (espérance) | 1 (demi-étendue) |\r\n",
    "| **Cote amont \\( Z_m \\) (m NGF)** | Triangulaire | 55 (espérance) | 1 (demi-étend\n",
    "\n",
    "\n",
    "Les autres paramètres du modèle sont considérés comme déterministes, notamment la longueur du tronçon (L=5000 m), la largeur du fleuve (B=300 m) et la cote de la berge ($Z_b$=55.5 m).e) |\r\n"
   ]
  },
  {
   "cell_type": "markdown",
   "id": "69ebe6ca-45b4-400a-a8eb-74e57bea6d56",
   "metadata": {},
   "source": [
    "### **Estimation de $P(S>0)$ par Simulation Monte-Carlo**\n",
    "\n",
    "Le modèle hydraulique implique des relations non linéaires entre les variables d’entrée et la surcharge S. En raison de cette complexité, il est difficile d’obtenir une formule analytique exacte pour estimer la probabilité $P(S>0)$. Pour cette raison, nous utilisons une simulation Monte-Carlo, qui consiste à générer un grand nombre de scénarios aléatoires en échantillonnant Q, $K_s, Z_v , Z_m$ selon leurs distributions respectives, puis à calculer S pour chaque réalisation.\n",
    "\n",
    "Cette méthode présente plusieurs avantages :\n",
    "\n",
    "- Elle ne nécessite pas d’hypothèse restrictive sur la forme de la distribution de S, contrairement aux méthodes analytiques.\n",
    "- Elle gère la complexité du modèle et sa non-linéarité.\n",
    "- Elle capture directement les incertitudes en respectant les distributions de chaque paramètre.\n",
    "- Elle permet d’optimiser la hauteur $h_d$ en testant plusieurs valeurs et en observant leur impact sur la probabilité de surverse.\n",
    " "
   ]
  },
  {
   "cell_type": "code",
   "execution_count": 1,
   "id": "efdefccf-1d08-4abe-a7cf-39681c300845",
   "metadata": {},
   "outputs": [
    {
     "name": "stdout",
     "output_type": "stream",
     "text": [
      "['Données débit-hauteur', 'Données coûts']\n",
      "\n",
      "Résumé des valeurs manquantes :\n",
      "Année                                     0\n",
      "Débit mesuré maximal annuel (en m3/s)     0\n",
      "Hauteur associée mesurée (en m)          26\n",
      "dtype: int64\n",
      "count    123.000000\n",
      "mean       3.896748\n",
      "std        1.272337\n",
      "min        1.000000\n",
      "25%        3.100000\n",
      "50%        3.900000\n",
      "75%        4.750000\n",
      "max        7.200000\n",
      "Name: Hauteur associée mesurée (en m), dtype: float64\n"
     ]
    }
   ],
   "source": [
    "import pandas as pd\n",
    "\n",
    "# Charger le fichier CSV\n",
    "df =  pd.ExcelFile(\"Données-Projet-Pratique-Fiabilité.xlsx\")\n",
    "print(df.sheet_names)  \n",
    "df = df.parse(df.sheet_names[0])  # Charge la première feuille \n",
    "\n",
    "print(\"\\nRésumé des valeurs manquantes :\")\n",
    "print(df.isnull().sum())\n",
    "print(df[\"Hauteur associée mesurée (en m)\"].describe())"
   ]
  },
  {
   "cell_type": "code",
   "execution_count": 2,
   "id": "2b390b5e-aaeb-4f9b-97f2-74f94fdcbba3",
   "metadata": {},
   "outputs": [
    {
     "data": {
      "text/html": [
       "<div>\n",
       "<style scoped>\n",
       "    .dataframe tbody tr th:only-of-type {\n",
       "        vertical-align: middle;\n",
       "    }\n",
       "\n",
       "    .dataframe tbody tr th {\n",
       "        vertical-align: top;\n",
       "    }\n",
       "\n",
       "    .dataframe thead th {\n",
       "        text-align: right;\n",
       "    }\n",
       "</style>\n",
       "<table border=\"1\" class=\"dataframe\">\n",
       "  <thead>\n",
       "    <tr style=\"text-align: right;\">\n",
       "      <th></th>\n",
       "      <th>Année</th>\n",
       "      <th>Débit mesuré maximal annuel (en m3/s)</th>\n",
       "      <th>Hauteur associée mesurée (en m)</th>\n",
       "    </tr>\n",
       "  </thead>\n",
       "  <tbody>\n",
       "    <tr>\n",
       "      <th>0</th>\n",
       "      <td>1849</td>\n",
       "      <td>3853.892756</td>\n",
       "      <td>NaN</td>\n",
       "    </tr>\n",
       "    <tr>\n",
       "      <th>1</th>\n",
       "      <td>1850</td>\n",
       "      <td>1256.402143</td>\n",
       "      <td>4.0</td>\n",
       "    </tr>\n",
       "    <tr>\n",
       "      <th>2</th>\n",
       "      <td>1851</td>\n",
       "      <td>1648.542191</td>\n",
       "      <td>4.5</td>\n",
       "    </tr>\n",
       "    <tr>\n",
       "      <th>3</th>\n",
       "      <td>1852</td>\n",
       "      <td>1604.857094</td>\n",
       "      <td>4.3</td>\n",
       "    </tr>\n",
       "    <tr>\n",
       "      <th>4</th>\n",
       "      <td>1853</td>\n",
       "      <td>341.157419</td>\n",
       "      <td>1.7</td>\n",
       "    </tr>\n",
       "    <tr>\n",
       "      <th>...</th>\n",
       "      <td>...</td>\n",
       "      <td>...</td>\n",
       "      <td>...</td>\n",
       "    </tr>\n",
       "    <tr>\n",
       "      <th>144</th>\n",
       "      <td>1993</td>\n",
       "      <td>740.178695</td>\n",
       "      <td>3.1</td>\n",
       "    </tr>\n",
       "    <tr>\n",
       "      <th>145</th>\n",
       "      <td>1994</td>\n",
       "      <td>3044.380648</td>\n",
       "      <td>7.2</td>\n",
       "    </tr>\n",
       "    <tr>\n",
       "      <th>146</th>\n",
       "      <td>1995</td>\n",
       "      <td>1127.889906</td>\n",
       "      <td>3.5</td>\n",
       "    </tr>\n",
       "    <tr>\n",
       "      <th>147</th>\n",
       "      <td>1996</td>\n",
       "      <td>522.151370</td>\n",
       "      <td>2.5</td>\n",
       "    </tr>\n",
       "    <tr>\n",
       "      <th>148</th>\n",
       "      <td>1997</td>\n",
       "      <td>642.328261</td>\n",
       "      <td>2.5</td>\n",
       "    </tr>\n",
       "  </tbody>\n",
       "</table>\n",
       "<p>149 rows × 3 columns</p>\n",
       "</div>"
      ],
      "text/plain": [
       "     Année  Débit mesuré maximal annuel (en m3/s)  \\\n",
       "0     1849                            3853.892756   \n",
       "1     1850                            1256.402143   \n",
       "2     1851                            1648.542191   \n",
       "3     1852                            1604.857094   \n",
       "4     1853                             341.157419   \n",
       "..     ...                                    ...   \n",
       "144   1993                             740.178695   \n",
       "145   1994                            3044.380648   \n",
       "146   1995                            1127.889906   \n",
       "147   1996                             522.151370   \n",
       "148   1997                             642.328261   \n",
       "\n",
       "     Hauteur associée mesurée (en m)  \n",
       "0                                NaN  \n",
       "1                                4.0  \n",
       "2                                4.5  \n",
       "3                                4.3  \n",
       "4                                1.7  \n",
       "..                               ...  \n",
       "144                              3.1  \n",
       "145                              7.2  \n",
       "146                              3.5  \n",
       "147                              2.5  \n",
       "148                              2.5  \n",
       "\n",
       "[149 rows x 3 columns]"
      ]
     },
     "execution_count": 2,
     "metadata": {},
     "output_type": "execute_result"
    }
   ],
   "source": [
    "df"
   ]
  },
  {
   "cell_type": "markdown",
   "id": "4dc0bf2e-209d-493c-ada7-16e0b331b918",
   "metadata": {},
   "source": [
    "Nous avons pris n=10000 simulations pour l'Approche 2 car l'estimation de $h_d$ repose sur un quantile, et selon la règle \n",
    "$n=10^(k+2)$ avec k=2 pour un quantile, cela garantit une incertitude d'environ 10%, assurant ainsi une précision suffisante tout en restant raisonnable en termes de coût computationnel."
   ]
  },
  {
   "cell_type": "code",
   "execution_count": 10,
   "id": "efeb1950-69bc-4052-87b7-38e4f87049fa",
   "metadata": {},
   "outputs": [
    {
     "name": "stdout",
     "output_type": "stream",
     "text": [
      "Hauteur optimale de la digue : 7.60 m\n"
     ]
    },
    {
     "name": "stderr",
     "output_type": "stream",
     "text": [
      "C:\\Users\\ouaha\\AppData\\Local\\Temp\\ipykernel_892\\1986855653.py:16: RuntimeWarning: invalid value encountered in power\n",
      "  H_sim = (Q_sim / (Ks_sim * np.sqrt(((Zm_sim - Zv_sim)/L))*B)) ** (3/5)\n"
     ]
    }
   ],
   "source": [
    "import numpy as np\n",
    "from scipy.stats import gumbel_r, norm, triang\n",
    "\n",
    "# 🔹 Paramètres fixes\n",
    "L, B, Z_b = 5000, 300, 55.5  \n",
    "\n",
    "# 🔹 Lois de probabilité des variables aléatoires\n",
    "n_simulations = 10000\n",
    "\n",
    "Q_sim = gumbel_r.rvs(loc=1013, scale=558, size=n_simulations)\n",
    "Ks_sim = norm.rvs(loc=30, scale=7.5, size=n_simulations)\n",
    "Zm_sim = triang.rvs(c=0.5, loc=54, scale=2, size=n_simulations)\n",
    "Zv_sim = triang.rvs(c=0.5, loc=49, scale=2, size=n_simulations)\n",
    "\n",
    "# 🔹 Calcul des hauteurs d’eau H\n",
    "H_sim = (Q_sim / (Ks_sim * np.sqrt(((Zm_sim - Zv_sim)/L))*B)) ** (3/5)\n",
    "\n",
    "# 🔹 Optimisation de h_d\n",
    "h_d_values = np.arange(1, 9, 0.1)\n",
    "P_surverse_values = [np.mean(H_sim - h_d - (Z_b - Zv_sim) > 0) for h_d in h_d_values]\n",
    "\n",
    "# 🔹 Sélection de la hauteur optimale\n",
    "h_d_optimal = h_d_values[np.argmin(np.abs(np.array(P_surverse_values)))]\n",
    "print(f\"Hauteur optimale de la digue : {h_d_optimal:.2f} m\")\n"
   ]
  },
  {
   "cell_type": "markdown",
   "id": "adb40d3a-04ef-4f07-8bc5-0dc057466a34",
   "metadata": {},
   "source": [
    "Une fois la simulation effectuée, nous regardons la distribution probabiliste de la simulation des hauteurs de crues."
   ]
  },
  {
   "cell_type": "code",
   "execution_count": 11,
   "id": "95f9c08e-e21f-4d50-8d0d-39c6d9e70875",
   "metadata": {},
   "outputs": [
    {
     "data": {
      "image/png": "[encoded data removed]",
      "text/plain": [
       "<Figure size 640x480 with 1 Axes>"
      ]
     },
     "metadata": {},
     "output_type": "display_data"
    }
   ],
   "source": [
    "import matplotlib.pyplot as plt\n",
    "\n",
    "# Supposons que H_sim contienne les hauteurs de crue simulées\n",
    "plt.hist(H_sim, bins=60, density=True, alpha=0.7, color='gold')\n",
    "plt.xlabel(\"Hauteur de crue (m)\")\n",
    "plt.ylabel(\"Densité de probabilité\")\n",
    "plt.title(\"Distribution probabiliste des hauteurs de crue simulées\")\n",
    "plt.show()\n"
   ]
  },
  {
   "cell_type": "markdown",
   "id": "8653e279-26dd-4194-8fac-760358249949",
   "metadata": {},
   "source": [
    "La distribution obtenue après simulation Monte-Carlo montre une concentration des hauteurs de crue autour de valeurs comprises entre 2 m et 5 m, avec une faible probabilité d’atteindre des hauteurs extrêmes supérieures à 7 m."
   ]
  },
  {
   "cell_type": "code",
   "execution_count": 14,
   "id": "b5159821-950f-4160-9aad-47126a097708",
   "metadata": {},
   "outputs": [
    {
     "name": "stderr",
     "output_type": "stream",
     "text": [
      "C:\\Users\\ouaha\\AppData\\Local\\Temp\\ipykernel_892\\415235491.py:13: RuntimeWarning: invalid value encountered in power\n",
      "  H_resample = (Q_resample / (Ks_resample * np.sqrt(((Zm_resample - Zv_resample)/L))*B)) ** (3/5)\n"
     ]
    },
    {
     "name": "stdout",
     "output_type": "stream",
     "text": [
      "Hauteur optimale de la digue : 7.60 m\n",
      "IC à 95% pour h_d optimal : [7.52 m ; 7.68 m]\n"
     ]
    }
   ],
   "source": [
    "n_simulations = 10000  # Nombre d'échantillons Monte Carlo\n",
    "n_bootstrap = 1000  \n",
    "\n",
    "h_d_bootstrap = []\n",
    "\n",
    "for _ in range(n_bootstrap):\n",
    "    # Recalculer H_sim avec un échantillonnage aléatoire (bootstrap)\n",
    "    Q_resample = np.random.choice(Q_sim, size=n_simulations, replace=True)\n",
    "    Ks_resample = np.random.choice(Ks_sim, size=n_simulations, replace=True)\n",
    "    Zm_resample = np.random.choice(Zm_sim, size=n_simulations, replace=True)\n",
    "    Zv_resample = np.random.choice(Zv_sim, size=n_simulations, replace=True)\n",
    "    \n",
    "    H_resample = (Q_resample / (Ks_resample * np.sqrt(((Zm_resample - Zv_resample)/L))*B)) ** (3/5)\n",
    "    \n",
    "    P_surverse_resample = [np.mean(H_resample - h_d - (Z_b - Zv_resample) > 0) for h_d in h_d_values]\n",
    "    h_d_bootstrap.append(h_d_values[np.argmin(np.abs(np.array(P_surverse_resample)))])\n",
    "\n",
    "# 🔹 Calcul des IC à 95%\n",
    "z_alpha = norm.ppf(0.975)  # 1.96 pour IC à 95%\n",
    "sigma_h_d = np.std(h_d_bootstrap)\n",
    "IC_h_d_lower = h_d_optimal - z_alpha * sigma_h_d / np.sqrt(n_bootstrap)\n",
    "IC_h_d_upper = h_d_optimal + z_alpha * sigma_h_d / np.sqrt(n_bootstrap)\n",
    "\n",
    "# 🔹 Affichage des résultats\n",
    "print(f\"Hauteur optimale de la digue : {h_d_optimal:.2f} m\")\n",
    "print(f\"IC à 95% pour h_d optimal : [{IC_h_d_lower:.2f} m ; {IC_h_d_upper:.2f} m]\")\n"
   ]
  },
  {
   "cell_type": "markdown",
   "id": "749281dd-c4fb-4bdc-8d8a-dff5f7ef3089",
   "metadata": {},
   "source": [
    "L’IC est relativement étroit, ce qui indique une bonne précision de l’estimation.\n",
    "\n",
    "95% des estimations de Monte Carlo tomberaient dans cet intervalle.\n",
    "\n",
    "La hauteur optimale estimée de 7.60 m assure une protection efficace contre la surverse.\n",
    "\n",
    "Conclusion\n",
    "\n",
    "L’approche Monte Carlo permet d’estimer de manière robuste  en tenant compte des incertitudes des variables hydrauliques. L’ajout d’un intervalle de confiance renforce la rigueur de l’analyse et aide à la prise de décision en fournissant une estimation fiable et quantifiée de l’incertitude."
   ]
  },
  {
   "cell_type": "markdown",
   "id": "0d7730ea-8500-4656-97bc-fe976f1a3f7a",
   "metadata": {},
   "source": [
    "Les deux approches adoptées dans cette étude aboutissent à des estimations relativement proches de la hauteur optimale de la digue, mais elles diffèrent dans leur méthodologie et leur prise en compte des incertitudes.\n",
    "\n",
    "L’approche historique, fondée sur l’analyse des données passées, fournit des estimations de $h_d$ comprises entre 5.86 m et 7.56 m, en fonction de la méthode employée pour traiter les valeurs censurées.\n",
    "L’approche hydraulique par Monte-Carlo a quant à elle estimé une hauteur optimale de 7.6 m, très proche de la valeur obtenue avec la méthode naïve. Cette similitude suggère que la simulation probabiliste capture efficacement la distribution des hauteurs extrêmes, en intégrant la variabilité des paramètres hydrauliques et les incertitudes liées aux conditions d’écoulement. Contrairement à l’approche historique, cette méthode ne repose pas uniquement sur des observations passées, mais modélise explicitement les phénomènes physiques affectant la crue.\n",
    "L’approche par simulation permet donc une évaluation plus robuste du risque de surverse, en tenant compte de la variabilité naturelle des crues et de la dynamique hydraulique du cours d’eau. "
   ]
  },
  {
   "cell_type": "code",
   "execution_count": null,
   "id": "96766a9a-5e81-4b9d-a4c9-6aa45b45eead",
   "metadata": {},
   "outputs": [],
   "source": []
  }
 ],
 "metadata": {
  "kernelspec": {
   "display_name": "Python 3 (ipykernel)",
   "language": "python",
   "name": "python3"
  },
  "language_info": {
   "codemirror_mode": {
    "name": "ipython",
    "version": 3
   },
   "file_extension": ".py",
   "mimetype": "text/x-python",
   "name": "python",
   "nbconvert_exporter": "python",
   "pygments_lexer": "ipython3",
   "version": "3.11.7"
  }
 },
 "nbformat": 4,
 "nbformat_minor": 5
}
